{
 "metadata": {
  "language_info": {
   "codemirror_mode": {
    "name": "ipython",
    "version": 3
   },
   "file_extension": ".py",
   "mimetype": "text/x-python",
   "name": "python",
   "nbconvert_exporter": "python",
   "pygments_lexer": "ipython3",
   "version": "3.7.4"
  },
  "orig_nbformat": 2,
  "kernelspec": {
   "name": "python3",
   "display_name": "Python 3",
   "language": "python"
  }
 },
 "nbformat": 4,
 "nbformat_minor": 2,
 "cells": [
  {
   "cell_type": "code",
   "execution_count": 1,
   "metadata": {},
   "outputs": [],
   "source": [
    "from API_Main import TravelOffer_RS\n",
    "main = TravelOffer_RS()"
   ]
  },
  {
   "cell_type": "code",
   "execution_count": 2,
   "metadata": {},
   "outputs": [],
   "source": [
    "import pandas as pd\n",
    "sara_data = pd.read_csv('/Users/gleonardo/Downloads/TravelOffer_Recommendation-main/SARA_modified.csv')"
   ]
  },
  {
   "cell_type": "code",
   "execution_count": 9,
   "metadata": {},
   "outputs": [
    {
     "output_type": "stream",
     "name": "stdout",
     "text": [
      "    Travel Offer ID User ID  TimeStamp Date Of Birth   city country  \\\n0                11    Sara  20/1/2018      1986-1-9  Milan   Italy   \n1                10    Sara  20/1/2018      1986-1-9  Milan   Italy   \n2                21    Sara  15/3/2018      1986-1-9  Milan   Italy   \n3                20    Sara  15/3/2018      1986-1-9  Milan   Italy   \n4                31    Sara  10/5/2018      1986-1-9  Milan   Italy   \n5                30    Sara  10/5/2018      1986-1-9  Milan   Italy   \n6                41    Sara  19/6/2018      1986-1-9  Milan   Italy   \n7                40    Sara  19/6/2018      1986-1-9  Milan   Italy   \n8                51    Sara  27/9/2018      1986-1-9  Milan   Italy   \n9                50    Sara  27/9/2018      1986-1-9  Milan   Italy   \n10               61    Sara  20/1/2019      1986-1-9  Milan   Italy   \n11               60    Sara  20/1/2019      1986-1-9  Milan   Italy   \n12               71    Sara  15/3/2019      1986-1-9  Milan   Italy   \n13               70    Sara  15/3/2019      1986-1-9  Milan   Italy   \n14               81    Sara  10/5/2019      1986-1-9  Milan   Italy   \n15               80    Sara  10/5/2019      1986-1-9  Milan   Italy   \n16               91    Sara  19/6/2019      1986-1-9  Milan   Italy   \n17               90    Sara  19/6/2019      1986-1-9  Milan   Italy   \n18              100    Sara  27/9/2019      1986-1-9  Milan   Italy   \n19              101    Sara  27/9/2019      1986-1-9  Milan   Italy   \n\n                       Loyalty Card        Payment Card  \\\n0   ['Cartafreccia', 'Golden Card']  ['Paypal', 'Visa']   \n1   ['Cartafreccia', 'Golden Card']  ['Paypal', 'Visa']   \n2   ['Cartafreccia', 'Golden Card']  ['Paypal', 'Visa']   \n3   ['Cartafreccia', 'Golden Card']  ['Paypal', 'Visa']   \n4   ['Cartafreccia', 'Golden Card']  ['Paypal', 'Visa']   \n5   ['Cartafreccia', 'Golden Card']  ['Paypal', 'Visa']   \n6   ['Cartafreccia', 'Golden Card']  ['Paypal', 'Visa']   \n7   ['Cartafreccia', 'Golden Card']  ['Paypal', 'Visa']   \n8   ['Cartafreccia', 'Golden Card']  ['Paypal', 'Visa']   \n9   ['Cartafreccia', 'Golden Card']  ['Paypal', 'Visa']   \n10  ['Cartafreccia', 'Golden Card']  ['Paypal', 'Visa']   \n11  ['Cartafreccia', 'Golden Card']  ['Paypal', 'Visa']   \n12  ['Cartafreccia', 'Golden Card']  ['Paypal', 'Visa']   \n13  ['Cartafreccia', 'Golden Card']  ['Paypal', 'Visa']   \n14  ['Cartafreccia', 'Golden Card']  ['Paypal', 'Visa']   \n15  ['Cartafreccia', 'Golden Card']  ['Paypal', 'Visa']   \n16  ['Cartafreccia', 'Golden Card']  ['Paypal', 'Visa']   \n17  ['Cartafreccia', 'Golden Card']  ['Paypal', 'Visa']   \n18  ['Cartafreccia', 'Golden Card']  ['Paypal', 'Visa']   \n19  ['Cartafreccia', 'Golden Card']  ['Paypal', 'Visa']   \n\n                                             PRM Type  \\\n0                                                  []   \n1                                                  []   \n2                                                  []   \n3                                                  []   \n4                                                  []   \n5                                                  []   \n6                                                  []   \n7                                                  []   \n8                                                  []   \n9                                                  []   \n10  [' Persons with impairments in their members /...   \n11  [' Persons with impairments in their members /...   \n12  [' Persons with impairments in their members /...   \n13  [' Persons with impairments in their members /...   \n14  [' Persons with impairments in their members /...   \n15  [' Persons with impairments in their members /...   \n16  [' Persons with impairments in their members /...   \n17  [' Persons with impairments in their members /...   \n18  [' Persons with impairments in their members /...   \n19  [' Persons with impairments in their members /...   \n\n                    Preferred means of transportation  ...     Arrival time  \\\n0   ['Coach', 'Toll', 'Car Sharing', 'Train', 'Air...  ...   2018-1-21 0:15   \n1   ['Coach', 'Toll', 'Car Sharing', 'Train', 'Air...  ...  2018-1-21 13:21   \n2   ['Coach', 'Toll', 'Car Sharing', 'Train', 'Air...  ...  2018-3-15 18:32   \n3   ['Coach', 'Toll', 'Car Sharing', 'Train', 'Air...  ...  2018-3-15 22:55   \n4   ['Coach', 'Toll', 'Car Sharing', 'Train', 'Air...  ...  2018-5-11 10:42   \n5   ['Coach', 'Toll', 'Car Sharing', 'Train', 'Air...  ...   2018-5-11 8:09   \n6   ['Coach', 'Toll', 'Car Sharing', 'Train', 'Air...  ...  2018-6-19 21:40   \n7   ['Coach', 'Toll', 'Car Sharing', 'Train', 'Air...  ...   2018-6-20 5:21   \n8   ['Coach', 'Toll', 'Car Sharing', 'Train', 'Air...  ...   2018-9-28 2:57   \n9   ['Coach', 'Toll', 'Car Sharing', 'Train', 'Air...  ...  2018-9-27 22:28   \n10                     [ 'Train', 'Airline',  'Taxi']  ...  2019-1-20 14:12   \n11                     [ 'Train', 'Airline',  'Taxi']  ...  2019-1-21 11:11   \n12                     [ 'Train', 'Airline',  'Taxi']  ...   2019-3-16 1:36   \n13                     [ 'Train', 'Airline',  'Taxi']  ...   2019-3-16 1:32   \n14                     [ 'Train', 'Airline',  'Taxi']  ...  2019-5-10 13:13   \n15                     [ 'Train', 'Airline',  'Taxi']  ...   2019-5-11 6:37   \n16                     [ 'Train', 'Airline',  'Taxi']  ...   2019-6-20 0:27   \n17                     [ 'Train', 'Airline',  'Taxi']  ...   2019-6-19 6:25   \n18                     [ 'Train', 'Airline',  'Taxi']  ...  2019-9-27 20:31   \n19                     [ 'Train', 'Airline',  'Taxi']  ...  2019-9-27 22:30   \n\n                                             Services  Transfers  \\\n0   ['Air', 'Highspeed train', 'Train', 'Coach', '...  Unlimited   \n1   ['Air', 'Highspeed train', 'Train', 'Coach', '...  Unlimited   \n2   ['Air', 'Highspeed train', 'Train', 'Coach', '...  Unlimited   \n3   ['Air', 'Highspeed train', 'Train', 'Coach', '...  Unlimited   \n4   ['Air', 'Highspeed train', 'Train', 'Coach', '...  Unlimited   \n5   ['Air', 'Highspeed train', 'Train', 'Coach', '...  Unlimited   \n6   ['Air', 'Highspeed train', 'Train', 'Coach', '...  Unlimited   \n7   ['Air', 'Highspeed train', 'Train', 'Coach', '...  Unlimited   \n8   ['Air', 'Highspeed train', 'Train', 'Coach', '...  Unlimited   \n9   ['Air', 'Highspeed train', 'Train', 'Coach', '...  Unlimited   \n10  ['Air', 'Highspeed train', 'Train', 'Local rail']       None   \n11  ['Air', 'Highspeed train', 'Train', 'Local rail']       None   \n12  ['Air', 'Highspeed train', 'Train', 'Local rail']       None   \n13  ['Air', 'Highspeed train', 'Train', 'Local rail']       None   \n14  ['Air', 'Highspeed train', 'Train', 'Local rail']       None   \n15  ['Air', 'Highspeed train', 'Train', 'Local rail']       None   \n16  ['Air', 'Highspeed train', 'Train', 'Local rail']       None   \n17  ['Air', 'Highspeed train', 'Train', 'Local rail']       None   \n18  ['Air', 'Highspeed train', 'Train', 'Local rail']       None   \n19  ['Air', 'Highspeed train', 'Train', 'Local rail']       None   \n\n   Transfer duration  Walking distance to stop  Walking speed  \\\n0             Normal                     3000m           Fast   \n1             Normal                     3000m           Fast   \n2             Normal                     3000m           Fast   \n3             Normal                     3000m           Fast   \n4             Normal                     3000m           Fast   \n5             Normal                     3000m           Fast   \n6             Normal                     3000m           Fast   \n7             Normal                     3000m           Fast   \n8             Normal                     3000m           Fast   \n9             Normal                     3000m           Fast   \n10   At least 30 min                      500m           Slow   \n11   At least 30 min                      500m           Slow   \n12   At least 30 min                      500m           Slow   \n13   At least 30 min                      500m           Slow   \n14   At least 30 min                      500m           Slow   \n15   At least 30 min                      500m           Slow   \n16   At least 30 min                      500m           Slow   \n17   At least 30 min                      500m           Slow   \n18   At least 30 min                      500m           Slow   \n19   At least 30 min                      500m           Slow   \n\n    Cycling distance to stop  Cycling speed  Driving speed  Bought Tag  \n0                     10000m           Fast           Fast           1  \n1                     10000m           Fast           Fast           0  \n2                     10000m           Fast           Fast           1  \n3                     10000m           Fast           Fast           0  \n4                     10000m           Fast           Fast           1  \n5                     10000m           Fast           Fast           0  \n6                     10000m           Fast           Fast           1  \n7                     10000m           Fast           Fast           0  \n8                     10000m           Fast           Fast           1  \n9                     10000m           Fast           Fast           0  \n10                     2000m           Slow           Slow           1  \n11                     2000m           Slow           Slow           0  \n12                     2000m           Slow           Slow           1  \n13                     2000m           Slow           Slow           0  \n14                     2000m           Slow           Slow           1  \n15                     2000m           Slow           Slow           0  \n16                     2000m           Slow           Slow           1  \n17                     2000m           Slow           Slow           0  \n18                     2000m           Slow           Slow           1  \n19                     2000m           Slow           Slow           0  \n\n[20 rows x 45 columns]\n"
     ]
    }
   ],
   "source": [
    "sara_his = sara_data[:20]\n",
    "print(sara_his)"
   ]
  },
  {
   "cell_type": "code",
   "execution_count": 66,
   "metadata": {},
   "outputs": [],
   "source": [
    "# put the his to the HIS file\n",
    "main.his.res2csv(sara_his,main.his.TEST_HISTORICAL_DATA_PATH,'Sara.csv')"
   ]
  },
  {
   "cell_type": "code",
   "execution_count": null,
   "metadata": {},
   "outputs": [],
   "source": [
    "#change the parameters range\n",
    "# k_neighbors "
   ]
  },
  {
   "cell_type": "code",
   "execution_count": 3,
   "metadata": {},
   "outputs": [
    {
     "output_type": "stream",
     "name": "stdout",
     "text": [
      "WRONG LIST\n",
      "WRONG LIST\n",
      "WRONG LIST\n",
      "WRONG LIST\n",
      "WRONG LIST\n",
      "WRONG LIST\n",
      "WRONG LIST\n",
      "WRONG LIST\n",
      "WRONG LIST\n",
      "WRONG LIST\n",
      ">>>>>>>>>>>>>>>>>>>>>>>>>>>>>>>>>>>>>>>>>Start Searching The best recommender<<<<<<<<<<<<<<<<<<<<<<<<<<<<<<<<<<<<\n",
      "\n",
      "+++++++++++++++++++++++++++++++++++++++++++++++++++++++++++++++++++++++++++++++++++++++++++++++++++++++++++++\n",
      "\n",
      "Current Checking Recommender is >>>> [[ SVC ]] \n",
      "\n",
      "Time Consuming for this fit is :0.030592918395996094\n",
      "\n",
      "===> val. score: 0.6\n",
      "\n",
      "===> best parameter: OrderedDict([('C', 1.2938620470236999e-06), ('degree', 3), ('gamma', 4.7119123635319715), ('kernel', 'linear'), ('probability', True)])\n",
      "\n",
      "===> Actual Estimator is: SVC(C=1.2938620470236999e-06, break_ties=False, cache_size=200,\n",
      "    class_weight=None, coef0=0.0, decision_function_shape='ovr', degree=3,\n",
      "    gamma=4.7119123635319715, kernel='linear', max_iter=-1, probability=True,\n",
      "    random_state=None, shrinking=True, tol=0.001, verbose=False)\n",
      "\n",
      "\n",
      "\n",
      "+++++++++++++++++++++++++++++++++++++++++++++++++++++++++++++++++++++++++++++++++++++++++++++++++++++++++++++\n",
      "\n",
      "Current Checking Recommender is >>>> [[ DecisionTreeClassifier ]] \n",
      "\n",
      "Time Consuming for this fit is :0.028654098510742188\n",
      "\n",
      "===> val. score: 0.5\n",
      "\n",
      "===> best parameter: OrderedDict([('criterion', 'gini'), ('max_depth', 3), ('max_features', 28), ('max_leaf_nodes', 10), ('min_samples_leaf', 20)])\n",
      "\n",
      "===> Actual Estimator is: DecisionTreeClassifier(ccp_alpha=0.0, class_weight=None, criterion='gini',\n",
      "                       max_depth=3, max_features=28, max_leaf_nodes=10,\n",
      "                       min_impurity_decrease=0.0, min_impurity_split=None,\n",
      "                       min_samples_leaf=20, min_samples_split=2,\n",
      "                       min_weight_fraction_leaf=0.0, presort='deprecated',\n",
      "                       random_state=None, splitter='best')\n",
      "\n",
      "\n",
      "\n",
      "+++++++++++++++++++++++++++++++++++++++++++++++++++++++++++++++++++++++++++++++++++++++++++++++++++++++++++++\n",
      "\n",
      "Current Checking Recommender is >>>> [[ LogisticRegression ]] \n",
      "\n",
      "Time Consuming for this fit is :0.06916570663452148\n",
      "\n",
      "===> val. score: 0.55\n",
      "\n",
      "===> best parameter: OrderedDict([('C', 0.7477917359546752), ('fit_intercept', True), ('solver', 'newton-cg')])\n",
      "\n",
      "===> Actual Estimator is: LogisticRegression(C=0.7477917359546752, class_weight=None, dual=False,\n",
      "                   fit_intercept=True, intercept_scaling=1, l1_ratio=None,\n",
      "                   max_iter=100, multi_class='auto', n_jobs=None, penalty='l2',\n",
      "                   random_state=None, solver='newton-cg', tol=0.0001, verbose=0,\n",
      "                   warm_start=False)\n",
      "\n",
      "\n",
      "\n",
      "+++++++++++++++++++++++++++++++++++++++++++++++++++++++++++++++++++++++++++++++++++++++++++++++++++++++++++++\n",
      "\n",
      "Current Checking Recommender is >>>> [[ RandomForestClassifier ]] \n",
      "\n",
      "Time Consuming for this fit is :0.5377509593963623\n",
      "\n",
      "===> val. score: 0.8\n",
      "\n",
      "===> best parameter: OrderedDict([('bootstrap', False), ('criterion', 'gini'), ('max_depth', 19), ('max_features', 15), ('n_estimators', 63)])\n",
      "\n",
      "===> Actual Estimator is: RandomForestClassifier(bootstrap=False, ccp_alpha=0.0, class_weight=None,\n",
      "                       criterion='gini', max_depth=19, max_features=15,\n",
      "                       max_leaf_nodes=None, max_samples=None,\n",
      "                       min_impurity_decrease=0.0, min_impurity_split=None,\n",
      "                       min_samples_leaf=1, min_samples_split=2,\n",
      "                       min_weight_fraction_leaf=0.0, n_estimators=63,\n",
      "                       n_jobs=None, oob_score=False, random_state=None,\n",
      "                       verbose=0, warm_start=False)\n",
      "\n",
      "\n",
      "\n",
      "+++++++++++++++++++++++++++++++++++++++++++++++++++++++++++++++++++++++++++++++++++++++++++++++++++++++++++++\n",
      "\n",
      "Current Checking Recommender is >>>> [[ KNeighborsClassifier_uniform ]] \n",
      "\n",
      "Time Consuming for this fit is :0.026467084884643555\n",
      "\n",
      "===> val. score: 0.95\n",
      "\n",
      "===> best parameter: OrderedDict([('algorithm', 'brute'), ('n_neighbors', 2)])\n",
      "\n",
      "===> Actual Estimator is: KNeighborsClassifier(algorithm='brute', leaf_size=30, metric='minkowski',\n",
      "                     metric_params=None, n_jobs=None, n_neighbors=2, p=2,\n",
      "                     weights='uniform')\n",
      "\n",
      "\n",
      "\n",
      "+++++++++++++++++++++++++++++++++++++++++++++++++++++++++++++++++++++++++++++++++++++++++++++++++++++++++++++\n",
      "\n",
      "Current Checking Recommender is >>>> [[ KNeighborsClassifier_distance ]] \n",
      "\n",
      "Time Consuming for this fit is :0.027698040008544922\n",
      "\n",
      "===> val. score: 0.95\n",
      "\n",
      "===> best parameter: OrderedDict([('algorithm', 'brute'), ('n_neighbors', 4), ('p', 4)])\n",
      "\n",
      "===> Actual Estimator is: KNeighborsClassifier(algorithm='brute', leaf_size=30, metric='minkowski',\n",
      "                     metric_params=None, n_jobs=None, n_neighbors=4, p=4,\n",
      "                     weights='distance')\n",
      "\n",
      "\n",
      "\n",
      "----------------------------------------------------------------------------------------------------------------\n",
      "\n",
      "SEARCHING FINISH :\n",
      " The best recommder is KNeighborsClassifier_uniform \n",
      " its tune parameter is OrderedDict([('algorithm', 'brute'), ('n_neighbors', 2)]) \n",
      " its score is 0.95\n",
      " its evaluation score is 0 (0 means do not have the evaluation set)\n",
      " its model train time is 0.026467084884643555\n",
      " The actually estimator is KNeighborsClassifier(algorithm='brute', leaf_size=30, metric='minkowski',\n",
      "                     metric_params=None, n_jobs=None, n_neighbors=2, p=2,\n",
      "                     weights='uniform')\n",
      "\n",
      "----------------------------------------------------------------------------------------------------------------\n",
      "\n",
      "MODEL HAS BEEN SAVED IN  /Users/gleonardo/Downloads/TravelOffer_Recommendation-main/TEST_DATA/CLASSIFIER/MODEL/best_model_Sara_all_latest.m\n",
      "INFO HAS BEEN SAVED IN  /Users/gleonardo/Downloads/TravelOffer_Recommendation-main/TEST_DATA/CLASSIFIER/INFO/best_model_Sara_all_latest.npy\n"
     ]
    }
   ],
   "source": [
    "main.cold2old_num =10\n",
    "main.API_USER_TRAIN('Sara',reClusterTag=False)"
   ]
  },
  {
   "cell_type": "code",
   "execution_count": 3,
   "metadata": {},
   "outputs": [
    {
     "output_type": "stream",
     "name": "stdout",
     "text": [
      "   Travel Offer ID Date Of Birth   city country  \\\n0              111      1986-2-9  Milan   Italy   \n1              112      1986-3-9  Milan   Italy   \n2              113      1986-4-9  Milan   Italy   \n\n                      Loyalty Card        Payment Card PRM Type  \\\n0  ['Cartafreccia', 'Golden Card']  ['Paypal', 'Visa']       []   \n1  ['Cartafreccia', 'Golden Card']  ['Paypal', 'Visa']       []   \n2  ['Cartafreccia', 'Golden Card']  ['Paypal', 'Visa']       []   \n\n                   Preferred means of transportation  \\\n0  ['Coach', 'Toll', 'Car Sharing', 'Train', 'Air...   \n1  ['Coach', 'Toll', 'Car Sharing', 'Train', 'Air...   \n2  ['Coach', 'Toll', 'Car Sharing', 'Train', 'Air...   \n\n                Preferred carrier     Class  ...    Departure time  \\\n0  [5, 5, 5, 5, 5, 5, 5, 5, 5, 5]  Business  ...  2019-10-28 12:51   \n1  [5, 5, 5, 5, 5, 5, 5, 5, 5, 5]  Business  ...  2019-10-28 20:52   \n2  [5, 5, 5, 5, 5, 5, 5, 5, 5, 5]  Business  ...  2019-10-28 14:28   \n\n       Arrival time                                           Services  \\\n0   2019-10-29 0:15  ['Air', 'Highspeed train', 'Train', 'Coach', '...   \n1   2019-10-29 1:21  ['Air', 'Highspeed train', 'Train', 'Coach', '...   \n2  2019-10-28 18:32  ['Air', 'Highspeed train', 'Train', 'Coach', '...   \n\n   Transfers  Transfer duration  Walking distance to stop  Walking speed  \\\n0  Unlimited             Normal                     3000m           Fast   \n1  Unlimited             Normal                     3000m           Fast   \n2  Unlimited             Normal                     3000m           Fast   \n\n   Cycling distance to stop  Cycling speed  Driving speed  \n0                    10000m           Fast           Fast  \n1                    10000m           Fast           Fast  \n2                    10000m           Fast           Fast  \n\n[3 rows x 42 columns]\n"
     ]
    }
   ],
   "source": [
    "sara_predict =sara_data[20:]\n",
    "del(sara_predict['Bought Tag'])\n",
    "del(sara_predict['TimeStamp'])\n",
    "del(sara_predict['User ID'])\n",
    "sara_predict = sara_predict.reset_index(drop =True)\n",
    "print(sara_predict)\n"
   ]
  },
  {
   "cell_type": "code",
   "execution_count": 4,
   "metadata": {},
   "outputs": [
    {
     "output_type": "stream",
     "name": "stdout",
     "text": [
      "WRONG LIST\n=======================================================================================================\n        \nDear Sara : \n        \nAccording to your request, we recommend you consider the followiing travel offers.\n        \n   Travel Offer ID Starting point Destination Via    Departure time  \\\n0              111          Milan      Dublin  []  2019-10-28 12:51   \n1              112          Milan      Dublin  []  2019-10-28 20:52   \n2              113          Milan      Dublin  []  2019-10-28 14:28   \n\n       Arrival time  Score  \n0   2019-10-29 0:15    1.0  \n1   2019-10-29 1:21    1.0  \n2  2019-10-28 18:32    0.0  \n        \n---------------------------------------------------------------------------------------------------------       \n        \n"
     ]
    }
   ],
   "source": [
    "# main.API_USER_PREDICT('Sara')\n",
    "main.ranker.API_CLASSIFIER_Response('Sara',999,AutoTag=False,df_test=sara_predict)"
   ]
  },
  {
   "cell_type": "code",
   "execution_count": null,
   "metadata": {},
   "outputs": [],
   "source": []
  }
 ]
}