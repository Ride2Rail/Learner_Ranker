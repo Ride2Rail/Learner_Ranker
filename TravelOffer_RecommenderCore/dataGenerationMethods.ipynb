{
 "metadata": {
  "language_info": {
   "codemirror_mode": {
    "name": "ipython",
    "version": 3
   },
   "file_extension": ".py",
   "mimetype": "text/x-python",
   "name": "python",
   "nbconvert_exporter": "python",
   "pygments_lexer": "ipython3",
   "version": "3.7.4"
  },
  "orig_nbformat": 2,
  "kernelspec": {
   "name": "python37464bit18617f3ce48b4dcb85dfab7f9f539fcc",
   "display_name": "Python 3.7.4 64-bit ('python')"
  },
  "metadata": {
   "interpreter": {
    "hash": "df955ce39d0f31d56d4bb2fe0a613e5326ba60723fd33d8303a3aede8f65715c"
   }
  }
 },
 "nbformat": 4,
 "nbformat_minor": 2,
 "cells": [
  {
   "cell_type": "code",
   "execution_count": null,
   "source": [
    "# Three Methods of generating the user historical records"
   ],
   "outputs": [],
   "metadata": {}
  },
  {
   "cell_type": "code",
   "execution_count": 4,
   "source": [
    "# Method One:\n",
    "# Use the Whole Recommender System API\n",
    "from API_Main import TravelOffer_RS\n",
    "test = TravelOffer_RS()"
   ],
   "outputs": [],
   "metadata": {}
  },
  {
   "cell_type": "code",
   "execution_count": 5,
   "source": [
    "username = 'TEST001'\n",
    "test.his._GenerateHis2File(username)"
   ],
   "outputs": [
    {
     "output_type": "stream",
     "name": "stdout",
     "text": [
      "\n",
      ">>>\n",
      "User TEST001 `s historical records has been generated in the file \n",
      "/Users/gleonardo/Downloads/TravelOffer_Recommendation-main/TEST_DATA/HISTORICAL_DATA\n",
      "\n"
     ]
    }
   ],
   "metadata": {}
  },
  {
   "cell_type": "code",
   "execution_count": 6,
   "source": [
    "# Method Two:\n",
    "# Use AccuracyEval.py to generate the historical records for a series of users\n",
    "from AccuracyEval import ACC_EVAL\n",
    "acc = ACC_EVAL()"
   ],
   "outputs": [],
   "metadata": {}
  },
  {
   "cell_type": "code",
   "execution_count": 8,
   "source": [
    "dataStartName = 'TESTDATA'\n",
    "# dataCount = 1\n",
    "dataCount =10\n",
    "acc.generate_Eval_Dataset(dataStartName,dataCount)"
   ],
   "outputs": [
    {
     "output_type": "stream",
     "name": "stdout",
     "text": [
      "\n",
      ">>>\n",
      "User TESTDATA_0 `s historical records has been generated in the file \n",
      "/Users/gleonardo/Downloads/TravelOffer_Recommendation-main/TEST_DATA/HISTORICAL_DATA\n",
      "\n",
      "\n",
      ">>>\n",
      "User TESTDATA_1 `s historical records has been generated in the file \n",
      "/Users/gleonardo/Downloads/TravelOffer_Recommendation-main/TEST_DATA/HISTORICAL_DATA\n",
      "\n",
      "\n",
      ">>>\n",
      "User TESTDATA_2 `s historical records has been generated in the file \n",
      "/Users/gleonardo/Downloads/TravelOffer_Recommendation-main/TEST_DATA/HISTORICAL_DATA\n",
      "\n",
      "\n",
      ">>>\n",
      "User TESTDATA_3 `s historical records has been generated in the file \n",
      "/Users/gleonardo/Downloads/TravelOffer_Recommendation-main/TEST_DATA/HISTORICAL_DATA\n",
      "\n",
      "\n",
      ">>>\n",
      "User TESTDATA_4 `s historical records has been generated in the file \n",
      "/Users/gleonardo/Downloads/TravelOffer_Recommendation-main/TEST_DATA/HISTORICAL_DATA\n",
      "\n",
      "\n",
      ">>>\n",
      "User TESTDATA_5 `s historical records has been generated in the file \n",
      "/Users/gleonardo/Downloads/TravelOffer_Recommendation-main/TEST_DATA/HISTORICAL_DATA\n",
      "\n",
      "\n",
      ">>>\n",
      "User TESTDATA_6 `s historical records has been generated in the file \n",
      "/Users/gleonardo/Downloads/TravelOffer_Recommendation-main/TEST_DATA/HISTORICAL_DATA\n",
      "\n",
      "\n",
      ">>>\n",
      "User TESTDATA_7 `s historical records has been generated in the file \n",
      "/Users/gleonardo/Downloads/TravelOffer_Recommendation-main/TEST_DATA/HISTORICAL_DATA\n",
      "\n",
      "\n",
      ">>>\n",
      "User TESTDATA_8 `s historical records has been generated in the file \n",
      "/Users/gleonardo/Downloads/TravelOffer_Recommendation-main/TEST_DATA/HISTORICAL_DATA\n",
      "\n",
      "\n",
      ">>>\n",
      "User TESTDATA_9 `s historical records has been generated in the file \n",
      "/Users/gleonardo/Downloads/TravelOffer_Recommendation-main/TEST_DATA/HISTORICAL_DATA\n",
      "\n",
      "Evaluation Dataset of TESTDATA users has already generated!\n"
     ]
    },
    {
     "output_type": "execute_result",
     "data": {
      "text/plain": [
       "'TESTDATA'"
      ]
     },
     "metadata": {},
     "execution_count": 8
    }
   ],
   "metadata": {}
  },
  {
   "cell_type": "code",
   "execution_count": 9,
   "source": [
    "# Method Three:\n",
    "# Directly use the Generation function in Leaner\n",
    "from LEARNER import TEST_HistoricalDataGenerate\n",
    "his = TEST_HistoricalDataGenerate()"
   ],
   "outputs": [],
   "metadata": {}
  },
  {
   "cell_type": "code",
   "execution_count": 10,
   "source": [
    "username = 'TEST003'\n",
    "his._GenerateHis2File(username)"
   ],
   "outputs": [
    {
     "output_type": "stream",
     "name": "stdout",
     "text": [
      "\n",
      ">>>\n",
      "User TEST003 `s historical records has been generated in the file \n",
      "/Users/gleonardo/Downloads/TravelOffer_Recommendation-main/TEST_DATA/HISTORICAL_DATA\n",
      "\n"
     ]
    }
   ],
   "metadata": {}
  },
  {
   "cell_type": "code",
   "execution_count": null,
   "source": [],
   "outputs": [],
   "metadata": {}
  }
 ]
}